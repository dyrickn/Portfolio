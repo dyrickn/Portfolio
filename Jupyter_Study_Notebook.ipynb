{
 "cells": [
  {
   "cell_type": "markdown",
   "metadata": {},
   "source": [
    "Iterating"
   ]
  },
  {
   "cell_type": "code",
   "execution_count": 6,
   "metadata": {},
   "outputs": [
    {
     "name": "stdout",
     "output_type": "stream",
     "text": [
      "test\n",
      "test\n",
      "test\n",
      "test\n",
      "test\n"
     ]
    }
   ],
   "source": [
    "#prints test 5 times\n",
    "for i in range(5):\n",
    "    print(\"test\")"
   ]
  },
  {
   "cell_type": "markdown",
   "metadata": {},
   "source": [
    "Print elements of 'computer_assets' list"
   ]
  },
  {
   "cell_type": "code",
   "execution_count": 5,
   "metadata": {},
   "outputs": [
    {
     "name": "stdout",
     "output_type": "stream",
     "text": [
      "desktop20\n",
      "laptop1\n",
      "smartphone03\n"
     ]
    }
   ],
   "source": [
    "\n",
    "#create our asset list\n",
    "computer_assets = [\"laptop1\", \"desktop20\", \"smartphone03\"]\n",
    "#sorting the assets \n",
    "sorted_assets = sorted(computer_assets)\n",
    "#printing the sorted list\n",
    "for asset in sorted_assets:\n",
    "\n",
    "    print(asset)"
   ]
  },
  {
   "cell_type": "markdown",
   "metadata": {},
   "source": [
    "Defining a function"
   ]
  },
  {
   "cell_type": "code",
   "execution_count": 47,
   "metadata": {},
   "outputs": [
    {
     "name": "stdout",
     "output_type": "stream",
     "text": [
      "Placeholder Name\n"
     ]
    }
   ],
   "source": [
    "#define function\n",
    "def myfunction(name):\n",
    "    #prints value 'name' passed to function\n",
    "    print(name)\n",
    "#calling the function while passing an arguement    \n",
    "myfunction(\"Placeholder Name\")\n"
   ]
  },
  {
   "cell_type": "markdown",
   "metadata": {},
   "source": [
    "creating a function to determine failrate w/ outputs"
   ]
  },
  {
   "cell_type": "code",
   "execution_count": 66,
   "metadata": {},
   "outputs": [
    {
     "name": "stdout",
     "output_type": "stream",
     "text": [
      "High Failrate, Please Advise.\n"
     ]
    }
   ],
   "source": [
    "#defining a function to calculate failrate\n",
    "def calculate_failrate(total_attempts, failed_attempts):\n",
    "    #calc the percent\n",
    "    fail_percentage = failed_attempts / total_attempts\n",
    "    #returns the calculation\n",
    "    return fail_percentage\n",
    "#call the function with 2 arguements (Failed Attempts, Total Attempts)\n",
    "percentage = calculate_failrate(4,3)\n",
    "\n",
    "#if fail percent exceeds 70% returns an alert\n",
    "if (percentage > .7):\n",
    "    print(\"High Failrate, Please Advise.\")\n",
    "else:\n",
    "    #if fail percent under 70%, returns 'Ok'.\n",
    "    if (percentage <= .7):\n",
    "        print(\"Ok\")"
   ]
  },
  {
   "cell_type": "markdown",
   "metadata": {},
   "source": [
    "function to analyze logins vs average to determine suspicious activity, w/ alerts"
   ]
  },
  {
   "cell_type": "code",
   "execution_count": 1,
   "metadata": {},
   "outputs": [
    {
     "name": "stdout",
     "output_type": "stream",
     "text": [
      "Current day login total for ejones is 9\n",
      "Average logins per day for ejones is 3\n",
      "Alert! This account has more login activity than normal.\n"
     ]
    }
   ],
   "source": [
    "# Define a function named `analyze_logins()` that takes in three parameters, `username`, `current_day_logins`, and `average_day_logins`\n",
    "\n",
    "def analyze_logins(username, current_day_logins, average_day_logins):\n",
    "\n",
    "    # Display a message about how many login attempts the user has made that day\n",
    "\n",
    "    print(\"Current day login total for\", username, \"is\", current_day_logins)\n",
    "\n",
    "    # Display a message about average number of login attempts the user has made that day\n",
    "\n",
    "    print(\"Average logins per day for\", username, \"is\", average_day_logins)\n",
    "\n",
    "    # Calculate the ratio of the logins made on the current day to the logins made on an average day, storing in a variable named `login_ratio`\n",
    "\n",
    "    login_ratio = current_day_logins / average_day_logins\n",
    "\n",
    "    # Return the ratio\n",
    "\n",
    "    return login_ratio\n",
    "\n",
    "# Call `analyze_logins() and store the output in a variable named `login_analysis`\n",
    "\n",
    "login_analysis = analyze_logins(\"ejones\", 9, 3)\n",
    "\n",
    "# Conditional statement that displays an alert about the login activity if it's more than normal\n",
    "\n",
    "if login_analysis >= 3:\n",
    "    print(\"Alert! This account has more login activity than normal.\")"
   ]
  },
  {
   "cell_type": "markdown",
   "metadata": {},
   "source": [
    "Coverting integers to strings practice"
   ]
  },
  {
   "cell_type": "code",
   "execution_count": 7,
   "metadata": {},
   "outputs": [
    {
     "name": "stdout",
     "output_type": "stream",
     "text": [
      "<class 'str'>\n"
     ]
    }
   ],
   "source": [
    "#convert an integer into a string\n",
    "new_string = str(12345)\n",
    "#verify and output the object type\n",
    "print(type(new_string))"
   ]
  },
  {
   "cell_type": "markdown",
   "metadata": {},
   "source": [
    "String concatenation with an embedded string function"
   ]
  },
  {
   "cell_type": "code",
   "execution_count": 15,
   "metadata": {},
   "outputs": [
    {
     "name": "stdout",
     "output_type": "stream",
     "text": [
      "Hello TEST!\n"
     ]
    }
   ],
   "source": [
    "print(\"Hello\" + \" \" + \"Test!\".upper())"
   ]
  },
  {
   "cell_type": "code",
   "execution_count": 27,
   "metadata": {},
   "outputs": [
    {
     "name": "stdout",
     "output_type": "stream",
     "text": [
      "H\n"
     ]
    }
   ],
   "source": [
    "my_string = \"Hello\"\n",
    "print(my_string[0])"
   ]
  },
  {
   "cell_type": "code",
   "execution_count": 28,
   "metadata": {},
   "outputs": [
    {
     "name": "stdout",
     "output_type": "stream",
     "text": [
      "<class 'int'>\n",
      "<class 'str'>\n"
     ]
    }
   ],
   "source": [
    "# Assign `employee_id` to a four digit number as an initial value\n",
    "\n",
    "employee_id = 4186\n",
    "\n",
    "# Display the data type of `employee_id`\n",
    "\n",
    "print(type(employee_id))\n",
    "\n",
    "# Reassign `employee_id` to the same value but in the form of a string\n",
    "\n",
    "employee_id = str(employee_id)\n",
    "\n",
    "# Display the data type of `employee_id` now\n",
    "\n",
    "print(type(employee_id))\n"
   ]
  },
  {
   "cell_type": "code",
   "execution_count": 29,
   "metadata": {},
   "outputs": [
    {
     "name": "stdout",
     "output_type": "stream",
     "text": [
      "This employee ID has less than five digits. It does not meet length requirements.\n"
     ]
    }
   ],
   "source": [
    "# Assign `employee_id` to a four digit number as an initial value\n",
    "\n",
    "employee_id = 4186\n",
    "\n",
    "# Reassign `employee_id` to the same value but in the form of a string\n",
    "\n",
    "employee_id = str(employee_id)\n",
    "\n",
    "# Conditional statement that displays a message if the length of `employee_id` is less than five digits\n",
    "\n",
    "if len(employee_id) < 5:\n",
    "    print(\"This employee ID has less than five digits. It does not meet length requirements.\")"
   ]
  },
  {
   "cell_type": "markdown",
   "metadata": {},
   "source": [
    "user/device allow/disallow with mismatch alert"
   ]
  },
  {
   "cell_type": "code",
   "execution_count": 30,
   "metadata": {},
   "outputs": [
    {
     "name": "stdout",
     "output_type": "stream",
     "text": [
      "The user elarson is approved to access the system.\n",
      "8rp2k75 is the assigned device for elarson\n",
      "The username dmalcom is not approved to access the system.\n",
      "The user eraab is approved to access the system.\n",
      "4n482ts is not their assigned device.\n"
     ]
    }
   ],
   "source": [
    "# Assign `approved_users` to a list of approved usernames\n",
    "\n",
    "approved_users = [\"elarson\", \"bmoreno\", \"sgilmore\", \"eraab\", \"gesparza\"]\n",
    "\n",
    "# Assign `approved_devices` to a list of device IDs that correspond to the usernames in `approved_users`\n",
    "\n",
    "approved_devices = [\"8rp2k75\", \"hl0s5o1\", \"4n482ts\", \"a307vir\", \"3rcv4w6\"]\n",
    "\n",
    "# Define a function named `login` that takes in two parameters, `username` and `device_id`\n",
    "\n",
    "def login(username, device_id):\n",
    "\n",
    "    # If `username` belongs to `approved_users`,\n",
    "\n",
    "    if username in approved_users:\n",
    "\n",
    "        # then display \"The user ______ is approved to access the system.\",\n",
    "\n",
    "        print(\"The user\", username, \"is approved to access the system.\")\n",
    "\n",
    "        # assign `ind` to the index of `username` in `approved_users`,\n",
    "\n",
    "        ind = approved_users.index(username)\n",
    "\n",
    "        # and execute the following conditional\n",
    "        # If `device_id` matches the element at the index `ind` in `approved_devices`,\n",
    "\n",
    "        if device_id == approved_devices[ind]:\n",
    "\n",
    "          # then display \"______ is the assigned device for ______\"\n",
    "\n",
    "          print(device_id, \"is the assigned device for\", username)\n",
    "\n",
    "        # Otherwise,\n",
    "\n",
    "        else:\n",
    "\n",
    "          # display \"______ is not their assigned device\"\n",
    "\n",
    "          print(device_id, \"is not their assigned device.\")\n",
    "\n",
    "    # Otherwise (part of the outer conditional and handles the case when `username` does not belong to `approved_users`),\n",
    "\n",
    "    else:\n",
    "\n",
    "        # Display \"The user ______ is not approved to access the system.\"\n",
    "\n",
    "        print(\"The username\", username, \"is not approved to access the system.\")\n",
    "\n",
    "# Call the function you just defined to experiment with different username and device_id combinations\n",
    "\n",
    "login(\"elarson\",\"8rp2k75\")\n",
    "login(\"dmalcom\",\"r05c03s\")\n",
    "login(\"eraab\",\"4n482ts\")"
   ]
  },
  {
   "cell_type": "markdown",
   "metadata": {},
   "source": [
    "regular expression practice, isolating a domain from an email"
   ]
  },
  {
   "cell_type": "code",
   "execution_count": 51,
   "metadata": {},
   "outputs": [
    {
     "name": "stdout",
     "output_type": "stream",
     "text": [
      "bosleyservices\n"
     ]
    }
   ],
   "source": [
    "#import the regex library\n",
    "import re\n",
    "#define our string to a variable\n",
    "email = \"tom_bosley@bosleyservices.com\"\n",
    "#create a list variable from email regex slice\n",
    "domain = re.findall(\"\\w+\", email)\n",
    "#print the list data from position 1 (the domain text)\n",
    "print(domain[1])"
   ]
  },
  {
   "cell_type": "markdown",
   "metadata": {},
   "source": [
    "regex parsing IP's out of a small log file stored in a variable"
   ]
  },
  {
   "cell_type": "code",
   "execution_count": null,
   "metadata": {},
   "outputs": [],
   "source": [
    "# Assign `log_file` to a string containing username, date, login time, and IP address for a series of login attempts \n",
    "\n",
    "log_file = \"eraab 2022-05-10 6:03:41 192.168.152.148 \\niuduike 2022-05-09 6:46:40 192.168.22.115 \\nsmartell 2022-05-09 19:30:32 192.168.190.178 \\narutley 2022-05-12 17:00:59 1923.1689.3.24 \\nrjensen 2022-05-11 0:59:26 192.168.213.128 \\naestrada 2022-05-09 19:28:12 1924.1680.27.57 \\nasundara 2022-05-11 18:38:07 192.168.96.200 \\ndkot 2022-05-12 10:52:00 1921.168.1283.75 \\nabernard 2022-05-12 23:38:46 19245.168.2345.49 \\ncjackson 2022-05-12 19:36:42 192.168.247.153 \\njclark 2022-05-10 10:48:02 192.168.174.117 \\nalevitsk 2022-05-08 12:09:10 192.16874.1390.176 \\njrafael 2022-05-10 22:40:01 192.168.148.115 \\nyappiah 2022-05-12 10:37:22 192.168.103.10654 \\ndaquino 2022-05-08 7:02:35 192.168.168.144\"\n",
    "\n",
    "# Assign `pattern` to a regular expression that matches with all valid IP addresses and only those \n",
    "\n",
    "pattern = \"\\d{1,3}\\.\\d{1,3}\\.\\d{1,3}\\.\\d{1,3}\"\n",
    "\n",
    "# Use `re.findall()` on `pattern` and `log_file` and assign `valid_ip_addresses` to the output \n",
    "\n",
    "valid_ip_addresses = re.findall(pattern, log_file)\n",
    "\n",
    "# Assign `flagged_addresses` to a list of IP addresses that have been previously flagged for unusual activity\n",
    "\n",
    "flagged_addresses = [\"192.168.190.178\", \"192.168.96.200\", \"192.168.174.117\", \"192.168.168.144\"]\n",
    "\n",
    "# Iterative statement begins here\n",
    "# Loop through `valid_ip_addresses` with `address` as the loop variable\n",
    "\n",
    "for address in valid_ip_addresses:\n",
    "\n",
    "    # Conditional begins here\n",
    "    # If `address` belongs to `flagged_addresses`, display \"The IP address ______ has been flagged for further analysis.\"\n",
    "\n",
    "    if address in flagged_addresses:\n",
    "        print(\"The IP address\", address, \"has been flagged for further analysis.\")\n",
    "\n",
    "    # Otherwise, display \"The IP address ______ does not require further analysis.\"\n",
    "\n",
    "    else:\n",
    "        print(\"The IP address \", address,  \" does not require further analysis.\")"
   ]
  },
  {
   "cell_type": "markdown",
   "metadata": {},
   "source": [
    "practice working with files"
   ]
  },
  {
   "cell_type": "code",
   "execution_count": 59,
   "metadata": {},
   "outputs": [
    {
     "name": "stdout",
     "output_type": "stream",
     "text": [
      "jrafael,192.168.243.140,4:56:27,2022-05-09jrafael,192.168.243.140,4:56:27,2022-05-09jrafael,192.168.243.140,4:56:27,2022-05-09\n"
     ]
    }
   ],
   "source": [
    "# Assign `import_file` to the name of the text file that contains the security log file\n",
    "\n",
    "import_file = \"login.txt\"\n",
    "\n",
    "# Assign `missing entry` to a log that was not recorded in the log file\n",
    "\n",
    "missing_entry = \"jrafael,192.168.243.140,4:56:27,2022-05-09\"\n",
    "\n",
    "# Use `open()` to import security log file and store it as a string\n",
    "# Pass in \"a\" as the second parameter to indicate that the file is being opened for appending purposes\n",
    "\n",
    "with open(import_file, \"a\") as file:\n",
    "\n",
    "    # Use `.write()` to append `missing_entry` to the log file\n",
    "    file.write(missing_entry)\n",
    "\n",
    "# Use `open()` with the parameter \"r\" to open the security log file for reading purposes\n",
    "\n",
    "with open(import_file, \"r\") as file:\n",
    "\n",
    "    # Use `.read()` to read in the contents of the log file and store in a variable named `text`\n",
    "\n",
    "    text = file.read()\n",
    "\n",
    "# Display the contents of `text`\n",
    "\n",
    "print(text)"
   ]
  },
  {
   "cell_type": "code",
   "execution_count": null,
   "metadata": {},
   "outputs": [],
   "source": []
  },
  {
   "cell_type": "code",
   "execution_count": null,
   "metadata": {},
   "outputs": [],
   "source": []
  }
 ],
 "metadata": {
  "kernelspec": {
   "display_name": "Python 3",
   "language": "python",
   "name": "python3"
  },
  "language_info": {
   "codemirror_mode": {
    "name": "ipython",
    "version": 3
   },
   "file_extension": ".py",
   "mimetype": "text/x-python",
   "name": "python",
   "nbconvert_exporter": "python",
   "pygments_lexer": "ipython3",
   "version": "3.9.13"
  }
 },
 "nbformat": 4,
 "nbformat_minor": 2
}
